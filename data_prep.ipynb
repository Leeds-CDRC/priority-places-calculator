{
 "cells": [
  {
   "cell_type": "markdown",
   "id": "106ffb23-d5d9-450e-ba7e-a62ecaad482b",
   "metadata": {},
   "source": [
    "# Priority Places for Food - Data Preparation"
   ]
  },
  {
   "cell_type": "markdown",
   "id": "0206ade4-5fba-4a28-8d0d-09a4212284b9",
   "metadata": {},
   "source": [
    "# Set-up\n",
    "## Install required packages"
   ]
  },
  {
   "cell_type": "code",
   "execution_count": null,
   "id": "c4b3ac80-66e2-4239-9cff-510f1ce3a867",
   "metadata": {},
   "outputs": [],
   "source": [
    "import urllib3\n",
    "import geopandas as gpd\n",
    "import pandas as pd\n",
    "from shapely.geometry import Polygon, LineString, Point, shape\n",
    "import numpy as np\n",
    "import matplotlib.pyplot as plt\n",
    "import seaborn as sns\n",
    "import scipy as sp\n",
    "import operator\n",
    "import sys\n",
    "import os\n",
    "sys.path.append(os.path.join(os.path.dirname(os.getcwd()), 'DistanceCalculator'))\n",
    "from bipartite_nearest_distance_calculator import calculate_bipartite_nearest_distance, count_bipartite_within_tolerance\n",
    "from urllib.request import urlopen\n",
    "from shutil import copyfileobj, unpack_archive"
   ]
  },
  {
   "cell_type": "markdown",
   "id": "10bbc9ff-df02-4366-82ab-d48215b72420",
   "metadata": {},
   "source": [
    "## Set data directories"
   ]
  },
  {
   "cell_type": "code",
   "execution_count": null,
   "id": "2259c6d9-7986-4b17-a1d6-e5891c83d483",
   "metadata": {
    "tags": []
   },
   "outputs": [],
   "source": [
    "raw_data_directory = '/workspaces/priority-places-calculator/data/raw/'\n",
    "processed_data_directory = '/workspaces/priority-places-calculator/data/processed/'"
   ]
  },
  {
   "cell_type": "markdown",
   "id": "82a32cd5-fabf-4eee-9b2a-80295bd0457c",
   "metadata": {},
   "source": [
    "## Proximity to supermarket retail facilities\n",
    "\n",
    "### Average distance to nearest large grocery store\n",
    "\n",
    "For England, Scotland and Wales, indicator data obtained from e-food desert index of Newing et al., 2020. Location data of large grocery stores obtained from Geolytix Retails Points v15 and distances computed using GIS software. Code for Northern Ireland calculation shown below."
   ]
  },
  {
   "cell_type": "code",
   "execution_count": null,
   "id": "f6fb43a6-d068-482f-a5bb-20afcb20b08a",
   "metadata": {},
   "outputs": [],
   "source": [
    "if not os.path.exists(raw_data_directory + 'geolytix/Previous Versions/geolytix_retailpoints_v15_202001.csv'):\n",
    "    # Note the format for the direct download link.\n",
    "    url = 'https://drive.google.com/uc?id=1B8M7m86rQg2sx2TsHhFa2d-x-dZ1DbSy'\n",
    "    with urlopen(url) as in_stream, open(raw_data_directory + 'geolytix.zip', 'wb') as out_file:\n",
    "        copyfileobj(in_stream, out_file)\n",
    "    unpack_archive(raw_data_directory + 'geolytix.zip', raw_data_directory + 'geolytix')\n",
    "\n",
    "supermarkets = pd.read_csv(raw_data_directory + 'geolytix/Previous Versions/geolytix_retailpoints_v15_202001.csv')\n",
    "supermarkets = gpd.GeoDataFrame(supermarkets, geometry=gpd.points_from_xy(supermarkets['long_wgs'], supermarkets['lat_wgs']), crs=4326)\n",
    "large_supermarkets = supermarkets[supermarkets.size_band.isin(['15,069 < 30,138 ft2 (1,400 < 2,800 m2)', '30,138 ft2 > (2,800 m2)'])]\n",
    "large_supermarkets = gpd.GeoDataFrame(large_supermarkets, geometry=gpd.points_from_xy(large_supermarkets['long_wgs'], large_supermarkets['lat_wgs']), crs=4326)"
   ]
  },
  {
   "cell_type": "code",
   "execution_count": null,
   "id": "e901e1a3-a9b8-4cdb-9c60-60fbae7001d1",
   "metadata": {},
   "outputs": [],
   "source": [
    "country_outline = gpd.read_file('https://services1.arcgis.com/ESMARspQHYMw9BZ9/arcgis/rest/services/Countries_December_2021_UK_BGC_2022/FeatureServer/0/query?outFields=*&where=1%3D1&f=geojson')\n",
    "country_outline = country_outline.to_crs('EPSG:4326')\n",
    "country_outline = country_outline.dissolve()"
   ]
  },
  {
   "cell_type": "code",
   "execution_count": null,
   "id": "a4bd8242-49f3-4973-af2a-82e1aea96c24",
   "metadata": {},
   "outputs": [],
   "source": [
    "large_supermarkets = gpd.sjoin(large_supermarkets, country_outline, how=\"inner\", predicate='intersects')"
   ]
  },
  {
   "cell_type": "code",
   "execution_count": null,
   "id": "549c7f02-27e4-45a4-aca4-fd16bd1cb846",
   "metadata": {},
   "outputs": [],
   "source": [
    "if not os.path.exists(raw_data_directory + 'postcodes.csv'):\n",
    "    postcodes = pd.read_csv('https://geoportal.statistics.gov.uk/datasets/0d58125f0f9f4c81b6370a10f5ea3309_0.csv')\n",
    "    postcodes.to_csv(raw_data_directory + 'postcodes.csv', index=False)\n",
    "else:\n",
    "    postcodes = pd.read_csv(raw_data_directory + 'postcodes.csv')\n",
    "    postcodes = gpd.GeoDataFrame(postcodes, geometry=gpd.points_from_xy(postcodes['X'], postcodes['Y']), crs=4326)\n"
   ]
  },
  {
   "cell_type": "code",
   "execution_count": null,
   "id": "9ee385fe-7b10-4ec8-a149-98c61b46904c",
   "metadata": {},
   "outputs": [],
   "source": [
    "pntsB = large_supermarkets[['id', 'geometry']].to_crs(4326)\n",
    "pntsB.set_index('id', inplace=True)\n",
    "\n",
    "pntsA = postcodes[['PCD', 'geometry']].to_crs(4326)\n",
    "pntsA.set_index('PCD', inplace=True)\n",
    "\n",
    "Polygon = country_outline.envelope.values[0]"
   ]
  },
  {
   "cell_type": "code",
   "execution_count": null,
   "id": "beafd881-0b10-4f56-b1d7-67d43c15fb29",
   "metadata": {},
   "outputs": [],
   "source": [
    "dist = calculate_bipartite_nearest_distance(pntsA, pntsB, Polygon)\n",
    "dist.to_csv(processed_data_directory + 'postcode_to_nearest_large_supermarket_distance.csv', index=True)"
   ]
  },
  {
   "cell_type": "markdown",
   "id": "47ef3f24-3da3-4f46-b005-3d0c5a8d2093",
   "metadata": {},
   "source": [
    "### Average count of stores within 1km\n",
    "\n",
    "For England, Scotland and Wales, indicator data obtained from e-food desert index of Newing et al., 2020. Location data of large grocery stores obtained from Geolytix Retails Points v15 and distances computed using GIS software. Code for Northern Ireland shown below. "
   ]
  },
  {
   "cell_type": "code",
   "execution_count": null,
   "id": "8049f265-950e-41cf-9c7a-006e3672a408",
   "metadata": {},
   "outputs": [],
   "source": [
    "tolerance = 1000\n",
    "pntsA = postcodes[['PCD', 'geometry']]\n",
    "supermarket_within_1km = count_bipartite_within_tolerance(pntsA, pntsB, 1000)\n",
    "supermarket_within_1km.to_csv(processed_data_directory + 'postcode_to_nearest_large_supermarket_1km_count.csv', index=True)"
   ]
  },
  {
   "cell_type": "markdown",
   "id": "62a929a3-4450-4617-8fd1-a81666aceb73",
   "metadata": {},
   "source": [
    "## Accessibility to supermarket retail facilities\n",
    "\n",
    "### Average travel distance (based on a custom built spatial interaction model)\n",
    "\n",
    "For England, Scotland and Wales, values are taken from the same indicator in the e-food desert index of Newing et al., 2020. "
   ]
  },
  {
   "cell_type": "code",
   "execution_count": null,
   "id": "2db8fed4-74a5-4b41-8685-fbe15e87d4b2",
   "metadata": {},
   "outputs": [],
   "source": [
    "if not os.path.exists(raw_data_directory + 'EFDI_IndividualVariables.csv'):\n",
    "    # TODO: How to source this file.\n",
    "    raise NotImplementedError()\n",
    "\n",
    "efdi_variables = pd.read_csv(raw_data_directory + 'EFDI_IndividualVariables.csv')\n",
    "average_travel_distance = efdi_variables[['id', 'Average trip distance']]\n",
    "average_travel_distance.set_index('id', inplace=True)\n",
    "average_travel_distance.to_csv(processed_data_directory + 'average_trip_distance.csv', index=True)"
   ]
  },
  {
   "cell_type": "markdown",
   "id": "d5207684-28e9-4c71-8afa-1108ee020c73",
   "metadata": {},
   "source": [
    "### Accessibility via public transport (Govt Journey Time Statistics 2017 - 2020)\n",
    "\n",
    "For England, Scotland and Wales, values are taken from the same indicator in the e-food desert index of Newing et al., 2020. Data is based on ..."
   ]
  },
  {
   "cell_type": "code",
   "execution_count": null,
   "id": "15480576-faf3-4f6a-862e-4bc4b02b3563",
   "metadata": {},
   "outputs": [],
   "source": [
    "if not os.path.exists(raw_data_directory + 'EFDI_IndividualVariables.csv'):\n",
    "    # TODO: How to source this file.\n",
    "    raise NotImplementedError()\n",
    "\n",
    "efdi_variables = pd.read_csv(raw_data_directory + 'EFDI_IndividualVariables.csv')\n",
    "public_transport_retail = efdi_variables[['id', 'pt-retail']]\n",
    "public_transport_retail.set_index('id', inplace=True)\n",
    "public_transport_retail.to_csv(processed_data_directory + 'public_transport_retail.csv', index=True)"
   ]
  },
  {
   "cell_type": "markdown",
   "id": "30faacd2-a345-47db-8cfc-fd96485426d7",
   "metadata": {},
   "source": [
    "## Access to online deliveries\n",
    "\n",
    "### Online groceries availability (Newing et al, 2020). E,S,W"
   ]
  },
  {
   "cell_type": "code",
   "execution_count": null,
   "id": "977d9990-07a2-4d13-ba11-b739982dd6ad",
   "metadata": {},
   "outputs": [],
   "source": [
    "if not os.path.exists(raw_data_directory + 'EFDI_IndividualVariables.csv'):\n",
    "    # TODO: How to source this file.\n",
    "    raise NotImplementedError()\n",
    "\n",
    "efdi_variables = pd.read_csv(raw_data_directory + 'EFDI_IndividualVariables.csv')\n",
    "online_groceries_availability = efdi_variables[['id', 'totaldeliv']]\n",
    "online_groceries_availability.set_index('id', inplace=True)\n",
    "online_groceries_availability.to_csv(processed_data_directory + 'online_groceries_availability.csv', index=True)"
   ]
  },
  {
   "cell_type": "markdown",
   "id": "7d8af21c-396a-4687-a945-3026f0b6a728",
   "metadata": {},
   "source": [
    "### Propensity to shop online (CDRC Internet User Classification 2018). E,S,W."
   ]
  },
  {
   "cell_type": "code",
   "execution_count": null,
   "id": "de44365f-923a-423a-a2d4-87cebf936ac1",
   "metadata": {},
   "outputs": [],
   "source": [
    "if not os.path.exists(raw_data_directory + 'EFDI_IndividualVariables.csv'):\n",
    "    # TODO: How to source this file.\n",
    "    raise NotImplementedError()\n",
    "\n",
    "efdi_variables = pd.read_csv(raw_data_directory + 'EFDI_IndividualVariables.csv')\n",
    "online_shop_propensity = efdi_variables[['id', 'zshoponline']]\n",
    "online_shop_propensity.set_index('id', inplace=True)\n",
    "online_shop_propensity.to_csv(processed_data_directory + 'online_shop_propensity.csv', index=True)"
   ]
  },
  {
   "cell_type": "markdown",
   "id": "f5c9c0bd-26c1-4019-8a1c-c1d0a358f387",
   "metadata": {},
   "source": [
    "## Proximity to non-supermarket food provision"
   ]
  },
  {
   "cell_type": "code",
   "execution_count": null,
   "id": "389202b0-cc12-455a-acf5-c58ba0e2a16f",
   "metadata": {},
   "outputs": [],
   "source": [
    "# This cell cleans and processes the FSA data\n",
    "\n",
    "if not os.path.exists(raw_data_directory + 'FSA_establishment_data.csv'):\n",
    "    # TODO: How to source this file\n",
    "    raise NotImplementedError()\n",
    "\n",
    "fsa = pd.read_csv(raw_data_directory + 'FSA_establishment_data.csv')\n",
    "\n",
    "# Load the postcode data if not already loaded                      \n",
    "if 'postcodes' not in globals():\n",
    "    if not os.path.exists(raw_data_directory + 'postcodes.csv'):\n",
    "        postcodes = pd.read_csv('https://geoportal.statistics.gov.uk/datasets/0d58125f0f9f4c81b6370a10f5ea3309_0.csv')\n",
    "        postcodes.to_csv(raw_data_directory + 'postcodes.csv', index=False)\n",
    "    else:\n",
    "        postcodes = pd.read_csv(raw_data_directory + 'postcodes.csv')\n",
    "        postcodes = gpd.GeoDataFrame(postcodes, geometry=gpd.points_from_xy(postcodes['X'], postcodes['Y']), crs=4326)\n",
    "\n",
    "# Relating to 'Proximity to and density of Non-supermarket food provision', restrict the data to 'Retailers - other'\n",
    "fsa = fsa[fsa['BusinessType'].isin(['Retailers - other'])]\n",
    "\n",
    "# The largest proportion of geographic data is avialable at the postcode level. \n",
    "# In an effort to clean up the location data, let's take any data with a missing long/lat field and see if we can map the postcode to lon/lat positions.\n",
    "print('Total records: %d' % fsa.shape[0])\n",
    "print('Total records without a geocode: %d' % fsa['Geocode.Latitude'].isna().sum())\n",
    "\n",
    "joined = fsa.merge(postcodes[['PCD', 'X', 'Y', 'geometry']], left_on='PostCode', right_on='PCD', how='left')\n",
    "joined['Geocode.Latitude'] = joined['Geocode.Latitude'].fillna(joined.Y)\n",
    "joined['Geocode.Longitude'] = joined['Geocode.Longitude'].fillna(joined.X)\n",
    "fsa = joined[fsa.columns]\n",
    "\n",
    "print('Total records without a geocode: %d' % fsa['Geocode.Latitude'].isna().sum())\n",
    "\n",
    "# Filter out records without a geocode\n",
    "fsa = fsa[~fsa['Geocode.Latitude'].isna()]\n",
    "\n",
    "fsa = gpd.GeoDataFrame(fsa, geometry=gpd.points_from_xy(fsa['Geocode.Longitude'], fsa['Geocode.Latitude']), crs='EPSG:4326')\n"
   ]
  },
  {
   "cell_type": "markdown",
   "id": "e1e67965-a240-4e76-8225-b97a45b19f5f",
   "metadata": {},
   "source": [
    "### Distance to nearest non-supermarket retail food store (Food Standards Agency, accessed 2022-08-23). E,S,W,NI"
   ]
  },
  {
   "cell_type": "code",
   "execution_count": null,
   "id": "f1f48849-100a-440c-94c1-0076c595be84",
   "metadata": {},
   "outputs": [],
   "source": [
    "if 'postcodes' in globals() and 'fsa' in globals():\n",
    "    for region in postcodes[~postcodes.OSLAUA.isna()].OSLAUA.str[0:3].unique():\n",
    "        pcds_rgn = postcodes[postcodes['OSLAUA'].str[0:3] == region]\n",
    "        pntsA = pcds_rgn[['PCD', 'geometry']]\n",
    "        pntsA.set_index('PCD', inplace=True)\n",
    "        pntsB = fsa[['FHRSID', 'geometry']]\n",
    "        polygon = country_outline.envelope.values[0]\n",
    "        dist = calculate_bipartite_nearest_distance(pntsA, pntsB, polygon)\n",
    "        dist.to_csv(processed_data_directory + region + '_pcd_nonsupermarket_dist.csv')\n",
    "else:\n",
    "    raise RuntimeError('postcode and fsa objects not defined')"
   ]
  },
  {
   "cell_type": "markdown",
   "id": "69b54450-aa27-4998-93be-65b407ca6014",
   "metadata": {},
   "source": [
    "### Count of non-supermarket retail food stores within 1km (Food Standards Agency, accessed 2022-08-23). E,S,W,NI"
   ]
  },
  {
   "cell_type": "code",
   "execution_count": null,
   "id": "9406dad1-8127-4831-aa36-86faa7f9aff8",
   "metadata": {},
   "outputs": [],
   "source": [
    "if 'postcodes' in globals() and 'fsa' in globals():\n",
    "    for region in postcodes[~postcodes.OSLAUA.isna()].OSLAUA.str[0:3].unique():\n",
    "        print(region)\n",
    "        pcds_rgn = postcodes[postcodes['OSLAUA'].str[0:3] == region]\n",
    "        pcds_rgn = pcds_rgn.to_crs(27700)\n",
    "        pcds_rgn.geometry = pcds_rgn.buffer(1000)\n",
    "        pntsB = fsa[['FHRSID', 'geometry']].to_crs(27700)\n",
    "        print('Number of PCDs in region: %d' % pcds_rgn.shape[0])\n",
    "        pcds_intersect_counts = pd.DataFrame()\n",
    "        batchsize = int(pcds_rgn.shape[0] / 10.0)\n",
    "        row = 0\n",
    "        while row < pcds_rgn.shape[0]:\n",
    "            print(\"Processing pcds_rgn rows %d to %d\" % (row, row+batchsize))\n",
    "            joined_batch = gpd.sjoin(pcds_rgn[row:row+batchsize], pntsB, how='left')\n",
    "            pcd_intersect_counts_batch = joined_batch.groupby('PCD')['FHRSID'].count()\n",
    "            pcds_intersect_counts = pd.concat([pcds_intersect_counts, pcd_intersect_counts_batch])\n",
    "            row += batchsize\n",
    "        pcds_intersect_counts.to_csv(processed_data_directory + region + '_pcd_nonsupermarket_1kmcount.csv')\n",
    "else:\n",
    "    raise RuntimeError('postcode and fsa objects not defined')"
   ]
  },
  {
   "cell_type": "code",
   "execution_count": null,
   "id": "abe3371c-724b-47b6-b213-8c2c445588ff",
   "metadata": {},
   "outputs": [],
   "source": []
  },
  {
   "cell_type": "code",
   "execution_count": null,
   "id": "c6c64ade-e712-4dbf-973e-584a9ab0b6e8",
   "metadata": {},
   "outputs": [],
   "source": [
    "pcds_intersect_counts.to_csv('"
   ]
  },
  {
   "cell_type": "code",
   "execution_count": null,
   "id": "622e7721-339b-40b9-a0dd-9a01a118b35a",
   "metadata": {},
   "outputs": [],
   "source": [
    "joined.groupby('PCD')['FHRSID'].count()"
   ]
  },
  {
   "cell_type": "code",
   "execution_count": null,
   "id": "09b6ee73-2361-451b-9d26-296a7dc72b99",
   "metadata": {},
   "outputs": [],
   "source": [
    "pcds_rgn.shape"
   ]
  },
  {
   "cell_type": "code",
   "execution_count": null,
   "id": "cf647346-1669-480e-983c-69ccfae4b345",
   "metadata": {},
   "outputs": [],
   "source": [
    "pntsB.plot()"
   ]
  },
  {
   "cell_type": "code",
   "execution_count": null,
   "id": "d767bf47-3ee7-4238-ad1a-7dbab0660f4a",
   "metadata": {},
   "outputs": [],
   "source": [
    "pcds_rgn.geometry = pcds_rgn.buffer(1000)"
   ]
  },
  {
   "cell_type": "code",
   "execution_count": null,
   "id": "7bc58c65-4baf-4074-87fc-33138a1beff7",
   "metadata": {},
   "outputs": [],
   "source": [
    "ax = pcds_rgn[0:10].plot(alpha=0.1)\n",
    "pntsB[(pntsB.geometry.x > 383000) & (pntsB.geometry.x < 386000) & (pntsB.geometry.y > 798500) & (pntsB.geometry.y < 802500)].plot(ax=ax, color='r')"
   ]
  },
  {
   "cell_type": "code",
   "execution_count": null,
   "id": "bba8d59d-9a5e-4f78-bd14-25a1f4ddc459",
   "metadata": {},
   "outputs": [],
   "source": [
    "joined = gpd.sjoin(pcds_rgn[0:10], pntsB[(pntsB.geometry.x > 383000) & (pntsB.geometry.x < 386000) & (pntsB.geometry.y > 798500) & (pntsB.geometry.y < 802500)], how='left')\n",
    "\n",
    "#pcd_intersect_counts = joined.groupby('PCD')['FHRSID'].count()"
   ]
  },
  {
   "cell_type": "code",
   "execution_count": null,
   "id": "1a754695-1c64-44bc-8e55-5cdc242016bd",
   "metadata": {},
   "outputs": [],
   "source": [
    "joined.groupby('PCD')['FHRSID'].count()"
   ]
  },
  {
   "cell_type": "markdown",
   "id": "3ff2c809-34d2-43b3-9091-992fb9df1f41",
   "metadata": {},
   "source": [
    "### Average distance to nearest market (CDRC data from National Market Traders Federation 2016-2019). E,W."
   ]
  },
  {
   "cell_type": "code",
   "execution_count": null,
   "id": "611d23b6-0dcb-465f-b9d6-5229d2798208",
   "metadata": {},
   "outputs": [],
   "source": [
    "\n",
    "if not os.path.exists(raw_data_directory + 'FSA_establishment_data.csv'):\n",
    "    # TODO: How to source this file\n",
    "    raise NotImplementedError()\n",
    "\n",
    "fsa = pd.read_csv(raw_data_directory + 'FSA_establishment_data.csv')\n",
    "\n",
    "# Load the postcode data if not already loaded                      \n",
    "if 'postcodes' not in globals():\n",
    "    if not os.path.exists(raw_data_directory + 'postcodes.csv'):\n",
    "        postcodes = pd.read_csv('https://geoportal.statistics.gov.uk/datasets/0d58125f0f9f4c81b6370a10f5ea3309_0.csv')\n",
    "        postcodes.to_csv(raw_data_directory + 'postcodes.csv', index=False)\n",
    "    else:\n",
    "        postcodes = pd.read_csv(raw_data_directory + 'postcodes.csv')\n",
    "        postcodes = gpd.GeoDataFrame(postcodes, geometry=gpd.points_from_xy(postcodes['X'], postcodes['Y']), crs=4326)\n"
   ]
  },
  {
   "cell_type": "markdown",
   "id": "b96a40b1-fdb8-406b-a3ed-ffef68706965",
   "metadata": {},
   "source": [
    "### Average count of markets within 1km (CDRC data from National Market Traders Federation 2016-2019). E,W."
   ]
  },
  {
   "cell_type": "code",
   "execution_count": null,
   "id": "ff3f325c-9c75-4299-9f81-8a760a5b9dff",
   "metadata": {},
   "outputs": [],
   "source": [
    "with open(data_directory + 'nmftmarkets.csv', encoding=\"utf8\", errors='ignore') as f:\n",
    "    markets_df = pd.read_csv(f)\n",
    "\n",
    "# Filter anything relating to food and drink/retail/general (effectively filters out arts and crafts/antiques)\n",
    "markets_df = markets_df[markets_df['type_specific_mkv'].isin(['Retail', 'Food and Drink', 'Food and Drink/Arts and Crafts', 'General', 'Speciality Food and Drink', 'Food'])]\n",
    "\n",
    "markets_df = gpd.GeoDataFrame(markets_df, \n",
    "                              geometry=gpd.points_from_xy(markets_df['longitude'], markets_df['latitude']),\n",
    "                              crs='EPSG:4326')\n",
    "\n",
    "country_outline = gpd.read_file(data_directory + 'Countries_(December_2021)_GB_BFC.zip')\n",
    "country_outline = country_outline.to_crs('EPSG:4326')\n",
    "country_outline = country_outline.dissolve()\n",
    "\n",
    "postcodes = pd.read_csv(data_directory + 'ONS_Postcode_Directory_(Latest)_Centroids.csv')\n",
    "postcodes = gpd.GeoDataFrame(postcodes, \n",
    "                             geometry=gpd.points_from_xy(postcodes['long'], postcodes['lat']), \n",
    "                             crs='EPSG:4326')\n",
    "\n",
    "pntsB = markets_df[['name_mkv', 'geometry']]\n",
    "pntsB.set_index('name_mkv', inplace=True)\n",
    "\n",
    "pntsA = postcodes[['pcd', 'geometry']]\n",
    "pntsA.set_index('pcd', inplace=True)\n",
    "\n",
    "Polygon = country_outline.envelope.values[0]\n",
    "\n",
    "dist = calculate_bipartite_nearest_distance(pntsA, pntsB, Polygon)\n",
    "dist.to_csv(data_directory + 'postcode_to_nearest_market_distances.csv', index=True)\n",
    "\n",
    "tolerance = 1000\n",
    "market_within_1km = count_bipartite_within_tolerance(pntsA, pntsB, 1000)\n",
    "market_within_1km.to_csv(data_directory + 'postcode_market_1km_count.csv', index=True)\n",
    "\n",
    "print('Time taken: %s' % (time.time() - t1))"
   ]
  },
  {
   "cell_type": "markdown",
   "id": "ca66a0e2-8d01-4825-be73-1ef1f4738662",
   "metadata": {},
   "source": [
    "## Socio-demographic barriers\n",
    "\n",
    "### Proportion of population experiencing income deprivation (UK Govt Index of Multiple Deprivation 2017-2020). E,S,W,NI. \n",
    "\n",
    "### Proportion of population with no car access (UK Census 2011). E,S,W,NI.\n",
    "\n",
    "\n",
    "## Need for family food support\n",
    "\n",
    "### Free school meal eligibility. E,S,W,NI.\n",
    "\n",
    "- state-funded nursery schools\n",
    "- state-funded primary schools\n",
    "- state-funded secondary schools\n",
    "- special schools, including state-funded special schools and non-maintained special schools\n",
    "- pupil referral units, including free school alternative provision and academy alternative provision\n",
    "\n",
    "https://explore-education-statistics.service.gov.uk/data-catalogue/free-school-meals-autumn-term/2020-21-autumn-term"
   ]
  },
  {
   "cell_type": "markdown",
   "id": "05168fa7-4ea1-44b3-bd1a-876fb4864049",
   "metadata": {},
   "source": [
    "fsm_eng = pd.read_csv(data_directory + 'free_school_meal_elligibility_2020.csv')\n",
    "fsm_eng = fsm_eng.loc[fsm_eng['time_period']==202021,:]\n",
    "fsm_eng.country_name.value_counts()\n",
    "fsm_raw = pd.read_csv(data_directory + 'spc_pupils_fsm_20220701.csv')"
   ]
  },
  {
   "cell_type": "markdown",
   "id": "1c4d4672-de4c-4a21-93a2-69f665e78641",
   "metadata": {},
   "source": [
    "### Healthy start voucher usage (England and Wales only). E,W."
   ]
  },
  {
   "cell_type": "code",
   "execution_count": null,
   "id": "8ce5bb2a-cb5d-41a8-ab72-c03178be0567",
   "metadata": {},
   "outputs": [],
   "source": [
    "# LA level\n",
    "HS_uptake = pd.read_csv(data_directory + 'Healthy_start_uptake_March_2022.csv')\n",
    "# Remove 'Teaching' from several local authority names in Wales\n",
    "HS_uptake['Local Authority'] = HS_uptake['Local Authority'].astype(str).str.replace(' Teaching',\"\")\n",
    "# Change local authority wording to match lookup \n",
    "HS_uptake['Local Authority'] = HS_uptake['Local Authority'].astype(str).str.replace(\"Taff\",\"Taf\")\n",
    "HS_uptake['Local Authority'] = HS_uptake['Local Authority'].astype(str).str.replace('Anglesey','Isle of Anglesey')\n",
    "HS_uptake['Local Authority'] = HS_uptake['Local Authority'].astype(str).str.replace('Kings Lynn and West Norfolk',\"King's Lynn and West Norfolk\")\n",
    "\n",
    "lookup = pd.read_csv(data_directory + 'PCD_OA_LSOA_MSOA_LAD_AUG21_UK_LU.csv', encoding='Latin-1')\n",
    "census_21 =pd.read_csv(data_directory + 'popualtion_change_2011_2021_fig_3.csv')\n",
    "# Census population data (Local Authority -Child Population)\n",
    "census_21_child= pd.read_csv(data_directory + 'Local_Authority_pop_child.csv')\n",
    "\n",
    "# join look up table to census poualtion (2021) for all and child popualtions\n",
    "lookup =lookup.merge(census_21[['LA code', 'Usual resident population, 2011',\n",
    "       'Usual resident population, 2021', 'Percentage change']], left_on='ladcd', right_on='LA code', how='left')\n",
    "lookup =lookup.merge(census_21_child, left_on='ladcd', right_on='Area code', how='left')\n",
    "\n",
    "# join healthy start to lcoal authority in look up table\n",
    "HS_uptake =lookup.merge(HS_uptake, left_on=['ladnm'], right_on ='Local Authority', how='left', indicator=True)\n",
    "\n",
    "HS_uptake_lsoa = HS_uptake.groupby('lsoa11cd').agg({'ladnm':'first','Country':'first','Local Authority':'first',\n",
    "                                                   'Total Entitled Beneficiaries':'first','Total Eligible Beneficiaries':'first',\n",
    "                                                   'Usual resident population, 2021':'first', \n",
    "                                                   'Uptake (%)':'first', 'Aged 4 years and under':'first',\n",
    "                                                   'Aged 5 to 9 years':'first', 'Aged 10 to 14 years':'first', \n",
    "                                                   'Aged 15 to 19 years':'first', '_merge':'first'})\n",
    "\n",
    "HS_uptake_lsoa['Percentage_Population_Eligible_HS'] =HS_uptake_lsoa['Total Eligible Beneficiaries']/HS_uptake_lsoa['Usual resident population, 2021']*100\n",
    "HS_uptake_lsoa['Percentage_under_5_Population_Eligible_HS'] =HS_uptake_lsoa['Total Eligible Beneficiaries']/HS_uptake_lsoa['Aged 4 years and under']*100\n",
    "HS_uptake_lsoa['Percentage_Population_Using_HS'] =HS_uptake_lsoa['Total Entitled Beneficiaries']/HS_uptake_lsoa['Usual resident population, 2021']*100\n",
    "HS_uptake_lsoa['Percentage_under_5_Population_Using_HS'] =HS_uptake_lsoa['Total Entitled Beneficiaries']/HS_uptake_lsoa['Aged 4 years and under']*100"
   ]
  },
  {
   "cell_type": "markdown",
   "id": "6482a4d9-8c85-4b91-af3e-fd39c064b5db",
   "metadata": {},
   "source": [
    "### Distance to nearest food bank (https://www.givefood.org.uk/, accessed 2022-08-19). E,S,W,NI. "
   ]
  },
  {
   "cell_type": "code",
   "execution_count": null,
   "id": "fe707a00-e1f1-4da7-b670-ada643009baa",
   "metadata": {},
   "outputs": [],
   "source": [
    "foodbanks_df = pd.read_json(data_directory + 'foodbanks_givefood_api_19Aug22.json')\n",
    "foodbanks_df['lat'] = pd.to_numeric(foodbanks_df.loc[:, 'lat_lng'].str.split(',').apply(operator.itemgetter(0)))\n",
    "foodbanks_df['lng'] = pd.to_numeric(foodbanks_df.loc[:, 'lat_lng'].str.split(',').apply(operator.itemgetter(1)))\n",
    "foodbanks_df = gpd.GeoDataFrame(foodbanks_df, \n",
    "                                geometry=gpd.points_from_xy(foodbanks_df['lng'], foodbanks_df['lat']),\n",
    "                                crs='EPSG:4326')\n",
    "\n",
    "country_outline = gpd.read_file(data_directory + 'Countries_(December_2021)_UK_BFC.zip')\n",
    "country_outline = country_outline.to_crs('EPSG:4326')\n",
    "country_outline = country_outline.dissolve()\n",
    "\n",
    "postcodes = pd.read_csv(data_directory + 'ONS_Postcode_Directory_(Latest)_Centroids.csv')\n",
    "postcodes = gpd.GeoDataFrame(postcodes, \n",
    "                             geometry=gpd.points_from_xy(postcodes['long'], postcodes['lat']), \n",
    "                             crs='EPSG:4326')\n",
    "\n",
    "pntsB = foodbanks_df[['slug', 'geometry']]\n",
    "pntsB.set_index('slug', inplace=True)\n",
    "\n",
    "pntsA = postcodes[['pcd', 'geometry']]\n",
    "pntsA.set_index('pcd', inplace=True)\n",
    "\n",
    "Polygon = country_outline.envelope.values[0]\n",
    "\n",
    "dist = calculate_bipartite_nearest_distance(pntsA, pntsB, Polygon)\n",
    "dist.to_csv(data_directory + 'postcode_to_nearest_foodbank_distance.csv', index=True)\n",
    "\n",
    "print('Time taken: %s' % (time.time() - t1))"
   ]
  },
  {
   "cell_type": "markdown",
   "id": "9833b644-a427-4d24-bdc0-2f3a02de3039",
   "metadata": {},
   "source": [
    "## Fuel Poverty\n",
    "\n",
    "### Proportion of households in fuel poverty (2017 - 2020). E,S,W.\n",
    "\n",
    "Low Income Low Energy Efficiency (LILEE) fuel poverty metric (2020 data) - England https://assets.publishing.service.gov.uk/government/uploads/system/uploads/attachment_data/file/1056802/fuel-poverty-methodology-handbook-2022-lilee-with-projection.pdf\n",
    "\n",
    "https://www.gov.uk/government/statistics/sub-regional-fuel-poverty-data-2022\n",
    "\n",
    "\n",
    "Fuel poverty calculation (England)- estimates the number and proportion of fuel poor households for smaller geographical areas and measured using proxy measures available for low level geographic areas and constrained to the national data drawn from the English Housing Survey (EHS)\n",
    "\n",
    "\n",
    "Application of the sub-regional model requires specific local area data for a variety of demographic and socio-economic factors, which are derived from the 2011 Census small area datasets\n",
    "\n",
    "Ideally, the EHS data would be used directly to model at the local level. Unfortunately, this is not possible because of the relatively small sample used for the survey, which does not give sufficient coverage for each of the 309 Local Authorities in England or the individual Census Output Areas (COAs) \n",
    "\n",
    "To allow results to be produced at this level, we use the EHS data to create a model which can then be applied to a national (household level) dataset. The limitation of this is the possibility that small areas which are atypical in condition are unlikely to be identified by the model. It is therefore essential, wherever possible, to compare the modelled results to local data.\n",
    "\n",
    "\n",
    "Model:\n",
    "1. Regression model testing: \n",
    "- A large number of independent variables are individually tested against the binary fuel poverty indicator to determine which have the highest coefficient of determination, i.e. which are most sensitive in predicting the fuel poverty outcome.\n",
    "- Variables are then grouped according to this coefficient and an iterative selection is made by running logistic regression on a developing group of these variables, with those least likely to contribute to final model predictions being dropped at each stage\n",
    "- The final set of variables contributing to the model varies each year depending on the results of the regression testing.\n",
    "\n",
    "\n",
    "The 2020 LILEE sub-regional fuel poverty model is based on the following seven variables, derived from public and commercial sources:\n",
    "- Tenure – owner occupied, private rented, social rented (Experian)\n",
    "- Dwelling age – pre-1919, 1919 to 1944, 1945 to 1980, post-1980 (Experian)\n",
    "- Household composition (Experian)\n",
    "- Mosaic household classifications by postcode – 15 socio-economic groups as detailed in the Mosaic guide (Experian)\n",
    "- Dwelling type – terraced, detached, semi-detached, bungalow, flat (Experian)\n",
    "- Government office region (Experian)\n",
    "- Employment status - proportion of households in COA with household member in full time employment (2011 Census)\n",
    "\n",
    "2. Model application\n",
    "- The coefficients for each category of the final model’s independent variables are run to give the predicted outcome for each household in each area. \n",
    "- These are then combined to produce the total numbers and proportion of fuel poor at COA level.\n",
    "\n",
    "3. Out put area cloning (addressing missing data):\n",
    "- After this process, a small number of COAs have missing fuel poverty data. \n",
    "- These gaps are filled by identifying COAs with complete data, which share identical or very similar characteristics to the missing cases. \n",
    "- Census data is used for this comparison as it records proportions of particular characteristic rather than discrete categories, and so the process can more accurately match pairs of COAs. The Census variables used in this matching process were those found in the final regression model, or which were omitted at a very late stage of testing. \n",
    "\n",
    "4. Consolidation to national figures:\n",
    "- In order to provide an exact match between the modelled household totals and the national figures (for all households and fuel poor households), a final adjustment is made in which small incremental changes are made randomly at a COA level, until the totals of all households and fuel poor households match the published regional totals\n",
    "\n",
    "5. The adjusted figures are re-checked against the published totals before the data is aggregated to LSOA, Local Authority, Parliamentary Constituency and Region level.\n",
    "\n",
    "\n",
    "Welsh equivalent of fuel poverty data: https://gov.wales/sites/default/files/statistics-and-research/2020-03/welsh-housing-conditions-survey-whcs-2017-18-local-area-fuel-poverty-estimates-modelling-and-results-summary-071.pdf (taken from pdf)\n",
    "\n",
    "\n",
    "Scottish equivalent of fuel poverty data: https://statistics.gov.scot/resource?uri=http%3A%2F%2Fstatistics.gov.scot%2Fdata%2Ffuel-poverty-shcs (local authority not data zone) \n",
    "A household is considered to be in fuel poverty if, in order to maintain a satisfactory heating regime:\n",
    "the total fuel costs necessary for the home are more than 10% of the household’s adjusted net income (after housing costs), and\n",
    "if after deducting fuel costs, benefits received for a care need or disability and childcare costs, the household’s remaining adjusted net income is insufficient to maintain an acceptable standard of living. The remaining adjusted net income must be at least 90% of the UK Minimum Income Standard to be considered an acceptable standard of living, with an additional amount added for households in remote rural, remote small town and island areas.\n",
    "Extreme fuel poverty follows the same definition except that a household would have to spend more than 20% of its adjusted net income (after hou\n",
    "sing costs) on total fuel costs and maintain a satisfactory heating regime."
   ]
  },
  {
   "cell_type": "code",
   "execution_count": null,
   "id": "6d6e1924-0712-47e9-9be9-5612371df86c",
   "metadata": {},
   "outputs": [],
   "source": [
    "fuel_eng = pd.read_csv(data_directory + 'Fuel_poverty_2020_England.csv')\n",
    "fuel_wal = pd.read_csv(data_directory + 'Fuel_poverty_2018_Wales.csv')\n",
    "fuel_scot = pd.read_csv(data_directory + 'Fuel_poverty_2017_19_Scotland.csv')\n",
    "\n",
    "lookup = pd.read_csv(data_directory + 'PCD_OA_LSOA_MSOA_LAD_AUG21_UK_LU.csv', encoding='Latin-1')\n",
    "census_21 =pd.read_csv(data_directory + 'popualtion_change_2011_2021_fig_3.csv')\n",
    "lookup =lookup.merge(census_21[['LA code', 'Usual resident population, 2011','Usual resident population, 2021', 'Percentage change']], left_on='ladcd', right_on='LA code', how='left')\n",
    "\n",
    "fuel_wal['Local_authority'] =fuel_wal['Local_authority'].astype(str).str.replace(\"Taff\",\"Taf\")\n",
    "fuel_wal['Local_authority'] =fuel_wal['Local_authority'].astype(str).str.replace(\"The Vale\",\"Vale\")\n",
    "\n",
    "# Join to look-up \n",
    "fuel_wal = lookup.merge(fuel_wal,  left_on='ladnm', right_on ='Local_authority', how='left', indicator=True)\n",
    "\n",
    "# Remove areas with no match i.e. not in Wales\n",
    "fuel_wal=fuel_wal.dropna(subset=['Percentage of households in fuel poverty '])\n",
    "\n",
    "# Select columns to join to wider fuel poverty df\n",
    "fuel_wales_to_join =fuel_wal[['lsoa11cd','Percentage of households in fuel poverty ','lsoa11nm']]\n",
    "# Rename for consistent formatting \n",
    "fuel_wales_to_join.columns =['lsoa11cd','Percent of households in fuel poverty','lsoa11nm']\n",
    "\n",
    "# Join to look-up \n",
    "fuel_scot =lookup.merge(fuel_scot, left_on='ladcd', right_on ='FeatureCode', how='left', indicator=True)\n",
    "\n",
    "# Remove areas with no match i.e. not in Scotland\n",
    "fuel_scot =fuel_scot.dropna(subset=['Percent of households in fuel poverty'])\n",
    "\n",
    "# Select columns to join to wider fuel poverty df\n",
    "fuel_scot_to_join =fuel_scot[['lsoa11cd','Percent of households in fuel poverty','lsoa11nm']]\n",
    "\n",
    "# Select columns to join to wider fuel poverty df\n",
    "fuel_eng_to_join = fuel_eng[['LSOA Code','Proportion of households fuel poor (%)','LSOA Name']]\n",
    "# Rename for consistent formatting \n",
    "fuel_eng_to_join.columns =['lsoa11cd','Percent of households in fuel poverty','lsoa11nm']\n",
    "\n",
    "fuel =pd.concat([fuel_scot_to_join,fuel_wales_to_join,fuel_eng_to_join])\n",
    "\n",
    "fuel = fuel.drop_duplicates()\n",
    "fuel.to_csv(data_directory + 'Fuel_poverty.csv', index=False)"
   ]
  },
  {
   "cell_type": "markdown",
   "id": "ead2d88e-ba65-4de0-8623-122371732f99",
   "metadata": {},
   "source": [
    "### Prepayment meter prevalence, 2017. E,S,W.\n",
    "\n",
    "https://www.gov.uk/government/statistics/electric-prepayment-meter-statistics"
   ]
  },
  {
   "cell_type": "code",
   "execution_count": null,
   "id": "45dd654f-affa-4435-900c-5a397e41bed6",
   "metadata": {},
   "outputs": [],
   "source": [
    "prepayment = pd.read_csv(data_directory + 'Prepayment_meter_2017.csv')\n",
    "\n",
    "households_lookup = pd.read_csv(data_directory + 'postcodes/postcodes_data.csv', usecols=['PCD', 'Occupied_Households','LSOA_DZ_Code'])\n",
    "\n",
    "households_lookup = households_lookup.groupby('LSOA_DZ_Code')['Occupied_Households'].sum()\n",
    "\n",
    "prepayment = prepayment.merge(households_lookup, left_on='Lower Layer Super Output Area (LSOA) Code', right_index=True, how='left', indicator=True)"
   ]
  },
  {
   "cell_type": "code",
   "execution_count": null,
   "id": "ca25d836-1ff8-402c-b4fb-fee1e124b24a",
   "metadata": {},
   "outputs": [],
   "source": []
  }
 ],
 "metadata": {
  "kernelspec": {
   "display_name": "Python 3 (ipykernel)",
   "language": "python",
   "name": "python3"
  },
  "language_info": {
   "codemirror_mode": {
    "name": "ipython",
    "version": 3
   },
   "file_extension": ".py",
   "mimetype": "text/x-python",
   "name": "python",
   "nbconvert_exporter": "python",
   "pygments_lexer": "ipython3",
   "version": "3.11.0"
  },
  "vscode": {
   "interpreter": {
    "hash": "aee8b7b246df8f9039afb4144a1f6fd8d2ca17a180786b69acc140d282b71a49"
   }
  }
 },
 "nbformat": 4,
 "nbformat_minor": 5
}
